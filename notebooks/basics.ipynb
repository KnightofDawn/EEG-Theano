{
 "metadata": {
  "name": "",
  "signature": "sha256:707e94849d954f59a05089469565197af3211b9d5babfdc256cec97aa81d7f12"
 },
 "nbformat": 3,
 "nbformat_minor": 0,
 "worksheets": [
  {
   "cells": [
    {
     "cell_type": "code",
     "collapsed": false,
     "input": [
      "%pushd\n",
      "%cd ../src\n",
      "import EEG\n",
      "%cd ..\n",
      "p = EEG.EEG('Dog_2', 'interictal', 17)\n",
      "%popd"
     ],
     "language": "python",
     "metadata": {},
     "outputs": [
      {
       "output_type": "stream",
       "stream": "stdout",
       "text": [
        "/home/andrewsm/sketchpad/kaggle/AES-SPC/src\n",
        "/home/andrewsm/sketchpad/kaggle/AES-SPC"
       ]
      },
      {
       "output_type": "stream",
       "stream": "stdout",
       "text": [
        "\n",
        "/home/andrewsm/sketchpad/kaggle/AES-SPC/notebooks\n",
        "popd -> ~/sketchpad/kaggle/AES-SPC/notebooks\n"
       ]
      }
     ],
     "prompt_number": 1
    },
    {
     "cell_type": "code",
     "collapsed": false,
     "input": [
      "%matplotlib\n",
      "import matplotlib.pyplot as plt\n",
      "import numpy as np\n",
      "\n",
      "data = p.data\n",
      "eeg = np.rollaxis(data, 1)\n",
      "\n",
      "n = p.n_channels\n",
      "spacing = 3\n",
      "\n",
      "fig = plt.figure()\n",
      "ax = fig.add_subplot(111)\n",
      "\n",
      "ax.plot(eeg[:, 0:20000] + spacing*np.arange(0,n,1))\n",
      "\n",
      "#ax.plot(np.zeros((20000,p.n_channels)) + spacing*np.arange(0,n,1),'--',color='gray')\n",
      "#ax.yticks([])\n",
      "ax.axis('tight')\n",
      "#ax.legend(first['channels'])\n",
      "\n",
      "plt.show()\n"
     ],
     "language": "python",
     "metadata": {},
     "outputs": [
      {
       "output_type": "stream",
       "stream": "stdout",
       "text": [
        "Using matplotlib backend: agg\n"
       ]
      }
     ],
     "prompt_number": 7
    }
   ],
   "metadata": {}
  }
 ]
}